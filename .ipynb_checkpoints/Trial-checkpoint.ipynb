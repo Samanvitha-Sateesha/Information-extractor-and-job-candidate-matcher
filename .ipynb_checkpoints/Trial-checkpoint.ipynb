{
 "cells": [
  {
   "cell_type": "code",
   "execution_count": 1,
   "metadata": {},
   "outputs": [
    {
     "name": "stderr",
     "output_type": "stream",
     "text": [
      "/usr/lib/python3/dist-packages/requests/__init__.py:80: RequestsDependencyWarning: urllib3 (1.22) or chardet (4.0.0) doesn't match a supported version!\n",
      "  RequestsDependencyWarning)\n"
     ]
    }
   ],
   "source": [
    "import csv\n",
    "import re\n",
    "import spacy\n",
    "from io import StringIO\n",
    "from importlib import reload\n",
    "import sys\n",
    "reload(sys)\n",
    "import pandas as pd\n",
    "#sys.setdefaultencoding('utf8')\n",
    "#from cStringIO import StringIO\n",
    "from pdfminer3.pdfinterp import PDFResourceManager, PDFPageInterpreter\n",
    "from pdfminer3.converter import TextConverter\n",
    "from pdfminer3.layout import LAParams\n",
    "from pdfminer3.pdfpage import PDFPage\n",
    "import os\n",
    "import sys, getopt\n",
    "import numpy as np\n",
    "from bs4 import BeautifulSoup\n",
    "#import urllib2\n",
    "#from urllib2 import urlopen\n",
    "import urllib.request\n",
    "\n",
    "from pdfminer3.layout import LAParams, LTTextBox\n",
    "from pdfminer3.pdfpage import PDFPage\n",
    "from pdfminer3.pdfinterp import PDFResourceManager\n",
    "from pdfminer3.pdfinterp import PDFPageInterpreter\n",
    "from pdfminer3.converter import PDFPageAggregator\n",
    "from pdfminer3.converter import TextConverter\n",
    "import io"
   ]
  },
  {
   "cell_type": "code",
   "execution_count": null,
   "metadata": {},
   "outputs": [],
   "source": []
  },
  {
   "cell_type": "code",
   "execution_count": 2,
   "metadata": {},
   "outputs": [],
   "source": [
    "#Function converting pdf to string\n",
    "def convert(fname, pages=None):\n",
    "    if not pages:\n",
    "        pagenums = set()\n",
    "    else:\n",
    "        pagenums = set(pages)\n",
    "\n",
    "    output = StringIO()\n",
    "    manager = PDFResourceManager()\n",
    "    converter = TextConverter(manager, output, laparams=LAParams())\n",
    "    interpreter = PDFPageInterpreter(manager, converter)\n",
    "\n",
    "    infile = open(fname, 'r') #open instead of file()\n",
    "    for page in PDFPage.get_pages(infile, pagenums):\n",
    "        interpreter.process_page(page)\n",
    "    infile.close()\n",
    "    converter.close()\n",
    "    text = output.getvalue()\n",
    "    output.close\n",
    "    return text"
   ]
  },
  {
   "cell_type": "code",
   "execution_count": 29,
   "metadata": {},
   "outputs": [],
   "source": [
    "#Function to extract names from the string using spacy\n",
    "def extract_name(string):\n",
    "    r1 = str(string)\n",
    "    nlp = spacy.load('en_core_web_sm')\n",
    "    doc = nlp(r1)\n",
    "    for ent in doc.ents:\n",
    "        print(ent)\n",
    "        if(ent.label_ == 'PER'):\n",
    "            if(ent.text == 'None'):\n",
    "                continue\n",
    "            else:    \n",
    "                print(ent.text)\n",
    "            #return ent.text\n",
    "            #break\n",
    "            "
   ]
  },
  {
   "cell_type": "code",
   "execution_count": 25,
   "metadata": {},
   "outputs": [],
   "source": [
    "#Function to extract Phone Numbers from string using regular expressions\n",
    "def extract_phone_numbers(string):\n",
    "    r = re.compile(r'(\\d{3}[-\\.\\s]??\\d{3}[-\\.\\s]??\\d{4}|\\(\\d{3}\\)\\s*\\d{3}[-\\.\\s]??\\d{4}|\\d{3}[-\\.\\s]??\\d{4})')\n",
    "    phone_numbers = r.findall(string)\n",
    "    return [re.sub(r'\\D', '', number) for number in phone_numbers]"
   ]
  },
  {
   "cell_type": "code",
   "execution_count": 5,
   "metadata": {},
   "outputs": [],
   "source": [
    "#Function to extract Email address from a string using regular expressions\n",
    "def extract_email_addresses(string):\n",
    "    r = re.compile(r'[\\w\\.-]+@[\\w\\.-]+')\n",
    "    return r.findall(string)"
   ]
  },
  {
   "cell_type": "code",
   "execution_count": 35,
   "metadata": {},
   "outputs": [
    {
     "name": "stdout",
     "output_type": "stream",
     "text": [
      "['S', 'a', 'm', 'a', 'n', 'v', 'i', 't', 'h', 'a', ' ', 'S', '\\n', '\\n', 's', 'a', 'm', 'a', 'n', 'v', 'i', 't', 'h', 'a', '.', 's', 'a', 't', 'e', 'e', 's', 'h', 'a', '@', 'g', 'm', 'a', 'i', 'l', '.', 'c', 'o', 'm', ' ', '|', ' ', '(', '+', '9', '1', ')', ' ', '8', '9', '0', '4', '8', '6', '8', '6', '9', '0', '\\n', '\\n', 'O', 'B', 'J', 'E', 'C', 'T', 'I', 'V', 'E', '\\n', 'I', ' ', 'a', 'm', ' ', 'a', ' ', 'C', 'o', 'm', 'p', 'u', 't', 'e', 'r', ' ', 'S', 'c', 'i', 'e', 'n', 'c', 'e', ' ', 's', 't', 'u', 'd', 'e', 'n', 't', ' ', 'p', 'u', 'r', 's', 'u', 'i', 'n', 'g', '\\n', 'm', 'y', ' ', 'u', 'n', 'd', 'e', 'r', 'g', 'r', 'a', 'd', 'u', 'a', 't', 'e', ' ', 'd', 'e', 'g', 'r', 'e', 'e', ' ', 'a', 'n', 'd', ' ', 'l', 'o', 'o', 'k', 'i', 'n', 'g', '\\n', 'f', 'o', 'r', 'w', 'a', 'r', 'd', ' ', 't', 'o', ' ', 'u', 't', 'i', 'l', 'i', 's', 'e', ' ', 'm', 'y', ' ', 'k', 'n', 'o', 'w', 'l', 'e', 'd', 'g', 'e', ' ', 't', 'o', ' ', 'b', 'e', ' ', 'a', 'n', '\\n', 'e', 'f', 'ﬁ', 'c', 'i', 'e', 'n', 't', ' ', 'a', 'n', 'd', ' ', 'v', 'a', 'l', 'u', 'a', 'b', 'l', 'e', ' ', 'r', 'e', 's', 'o', 'u', 'r', 'c', 'e', ' ', 'f', 'o', 'r', ' ', 't', 'h', 'e', '\\n', 'o', 'r', 'g', 'a', 'n', 'i', 's', 'a', 't', 'i', 'o', 'n', ' ', 'w', 'h', 'i', 'l', 'e', ' ', 'g', 'r', 'o', 'o', 'm', 'i', 'n', 'g', ' ', 'm', 'y', ' ', 's', 'k', 'i', 'l', 'l', 's', '\\n', 'a', 'n', 'd', ' ', 'e', 'x', 'p', 'e', 'r', 't', 'i', 's', 'e', ' ', 'f', 'o', 'r', ' ', 'p', 'e', 'r', 's', 'o', 'n', 'a', 'l', ' ', 'g', 'r', 'o', 'w', 't', 'h', ' ', 'a', 'n', 'd', '\\n', 'd', 'e', 'v', 'e', 'l', 'o', 'p', 'm', 'e', 'n', 't', '.', '\\n', '\\n', 'E', 'D', 'U', 'C', 'A', 'T', 'I', 'O', 'N', '\\n', 'J', 'S', 'S', ' ', 'S', 'C', 'I', 'E', 'N', 'C', 'E', ' ', 'A', 'N', 'D', '\\n', 'T', 'E', 'C', 'H', 'N', 'O', 'L', 'O', 'G', 'Y', ' ', 'U', 'N', 'I', 'V', 'E', 'R', 'S', 'I', 'T', 'Y', '\\n', 'B', '.', 'E', '.', ' ', 'I', 'N', ' ', 'C', 'O', 'M', 'P', 'U', 'T', 'E', 'R', ' ', 'S', 'C', 'I', 'E', 'N', 'C', 'E', '\\n', '(', ' ', '2', '0', '1', '8', ' ', '-', ' ', '2', '0', '2', '2', ' ', ')', '\\n', 'M', 'y', 's', 'o', 'r', 'e', ',', ' ', 'K', 'a', 'r', 'n', 'a', 't', 'a', 'k', 'a', '\\n', 'C', 'u', 'm', '.', ' ', 'G', 'P', 'A', ':', ' ', '9', '.', '4', '4', '/', '1', '0', '.', '0', ' ', '(', '4', ' ', 'S', 'e', 'm', 'e', 's', 't', 'e', 'r', 's', ')', '\\n', '\\n', 'J', 'N', 'A', 'N', 'O', 'D', 'A', 'Y', 'A', ' ', 'P', 'U', ' ', 'C', 'O', 'L', 'L', 'E', 'G', 'E', '\\n', '2', 'N', 'D', ' ', 'P', 'U', '\\n', '(', ' ', '2', '0', '1', '6', ' ', '-', ' ', '2', '0', '1', '8', ' ', ')', '\\n', 'M', 'y', 's', 'u', 'r', 'u', ',', ' ', 'K', 'a', 'r', 'n', 'a', 't', 'a', 'k', 'a', '\\n', 'P', 'e', 'r', 'c', 'e', 'n', 't', 'a', 'g', 'e', ':', ' ', '9', '6', '%', '\\n', '\\n', 'C', 'H', 'R', 'I', 'S', 'T', ' ', 'P', 'U', 'B', 'L', 'I', 'C', ' ', 'S', 'C', 'H', 'O', 'O', 'L', '\\n', 'C', 'L', 'A', 'S', 'S', ' ', 'X', '\\n', '(', ' ', '2', '0', '0', '9', ' ', '-', ' ', '2', '0', '1', '6', ' ', ')', '\\n', 'M', 'y', 's', 'u', 'r', 'u', ',', ' ', 'K', 'a', 'r', 'n', 'a', 't', 'a', 'k', 'a', '\\n', 'C', 'u', 'm', '.', ' ', 'G', 'P', 'A', ':', ' ', '1', '0', '.', '0', '/', '1', '0', '.', '0', '\\n', '\\n', 'L', 'I', 'N', 'K', 'S', '\\n', 'G', 'i', 't', 'h', 'u', 'b', ':', '/', '/', ' ', 'S', 'a', 'm', 'a', 'n', 'v', 'i', 't', 'h', 'a', '-', 'S', 'a', 't', 'e', 'e', 's', 'h', 'a', '\\n', 'L', 'i', 'n', 'k', 'e', 'd', 'I', 'n', ':', '/', '/', ' ', 's', 'a', 'm', 'a', 'n', 'v', 'i', 't', 'h', 'a', '-', 's', 'a', 't', 'e', 'e', 's', 'h', 'a', '\\n', '\\n', 'S', 'K', 'I', 'L', 'L', 'S', '\\n', 'P', 'R', 'O', 'G', 'R', 'A', 'M', 'M', 'I', 'N', 'G', '\\n', '•', ' ', 'C', ' ', '•', ' ', 'J', 'a', 'v', 'a', ' ', '•', ' ', 'H', 'T', 'M', 'L', ' ', '•', ' ', 'C', 'S', 'S', '\\n', '•', ' ', 'B', 'o', 'o', 't', 's', 't', 'r', 'a', 'p', ' ', '•', ' ', 'P', 'y', 't', 'h', 'o', 'n', '\\n', '•', ' ', 'N', 'o', 'd', 'e', '.', 'j', 's', ' ', '•', 'E', 'x', 'p', 'r', 'e', 's', 's', '.', 'j', 's', ' ', '•', ' ', 'M', 'o', 'n', 'g', 'o', 'D', 'B', ' ', '•', ' ', 'M', 'y', 'S', 'Q', 'L', '\\n', '\\n', 'T', 'O', 'O', 'L', 'S', '\\n', '•', ' ', 'G', 'i', 't', ' ', '•', ' ', 'L', 'a', 'T', 'e', 'X', ' ', '•', ' ', 'G', 'D', 'B', '\\n', '\\n', 'A', 'F', 'F', 'I', 'L', 'I', 'A', 'T', 'I', 'O', 'N', 'S', '\\n', 'I', 'N', 'S', 'T', 'I', 'T', 'U', 'T', 'I', 'O', 'N', \"'\", ' ', 'S', ' ', 'I', 'N', 'N', 'O', 'V', 'A', 'T', 'I', 'O', 'N', '\\n', 'C', 'O', 'U', 'N', 'C', 'I', 'L', ' ', '(', 'I', 'I', 'C', ')', ',', ' ', 'J', 'S', 'S', ' ', 'S', 'T', 'U', '\\n', '•', ' ', 'S', 't', 'u', 'd', 'e', 'n', 't', ' ', 'C', 'o', 'o', 'r', 'd', 'i', 'n', 'a', 't', 'o', 'r', '\\n', '(', ' ', 'J', 'a', 'n', ' ', '2', '0', '1', '9', ' ', '-', ' ', 'P', 'r', 'e', 's', 'e', 'n', 't', ' ', ')', '\\n', '\\n', 'E', 'X', 'P', 'E', 'R', 'I', 'E', 'N', 'C', 'E', '\\n', 'S', 'I', 'T', 'E', 'X', ' ', 'D', 'I', 'G', 'I', 'T', 'E', 'C', 'H', '\\n', 'M', 'a', 'n', 'a', 'g', 'e', 'm', 'e', 'n', 't', ' ', 'I', 'n', 't', 'e', 'r', 'n', ' ', '|', ' ', 'J', 'u', 'n', 'e', ' ', '2', '0', '2', '0', ' ', '-', ' ', 'N', 'o', 'v', 'e', 'm', 'b', 'e', 'r', ' ', '2', '0', '2', '0', '\\n', '•', ' ', 'M', 'a', 'n', 'a', 'g', 'e', 'd', ' ', 't', 'w', 'o', ' ', 'p', 'r', 'o', 'j', 'e', 'c', 't', 's', ' ', 'o', 'f', ' ', 't', 'h', 'e', ' ', 'c', 'o', 'm', 'p', 'a', 'n', 'y', ' ', '-', ' ', 'W', 'e', 'b', 's', 'i', 't', 'e', ' ', 'R', 'e', 'v', 'a', 'm', 'p', ' ', 'a', 'n', 'd', ' ', 'E', 'd', 'u', 'c', 'a', 't', 'i', 'o', 'n', ' ', 'A', 'p', 'p', ' ', 'P', 'r', 'o', 'j', 'e', 'c', 't', '.', '\\n', 'U', 's', 'e', 'd', ' ', 't', 'h', 'e', ' ', 'k', 'n', 'o', 'w', 'l', 'e', 'd', 'g', 'e', ' ', 'o', 'f', ' ', 'w', 'e', 'b', ' ', 'd', 'e', 'v', 'e', 'l', 'o', 'p', 'm', 'e', 'n', 't', ' ', 'b', 'y', ' ', 'c', 'o', 'n', 't', 'r', 'i', 'b', 'u', 't', 'e', ' ', 't', 'o', ' ', 't', 'h', 'e', ' ', 'p', 'r', 'o', 'j', 'e', 'c', 't', ' ', 'w', 'i', 't', 'h', ' ', 'd', 'e', 's', 'i', 'g', 'n', ' ', 'i', 'd', 'e', 'a', 's', '.', '\\n', '•', ' ', 'W', 'a', 's', ' ', 'p', 'r', 'e', 's', 'e', 'n', 't', ' ', 'i', 'n', ' ', 't', 'h', 'e', ' ', 'e', 'd', 'u', 'c', 'a', 't', 'i', 'o', 'n', ' ', 'a', 'p', 'p', ' ', 'p', 'r', 'o', 'j', 'e', 'c', 't', ' ', 'f', 'r', 'o', 'm', ' ', 't', 'h', 'e', ' ', 'r', 'o', 'o', 't', ' ', 't', 'i', 'l', 'l', ' ', 't', 'h', 'e', ' ', 'f', 'u', 'n', 'd', 'a', 'm', 'e', 'n', 't', 'a', 'l', ' ', 'f', 'e', 'a', 't', 'u', 'r', 'e', 's', ' ', 'w', 'e', 'r', 'e', '\\n', 's', 'u', 'c', 'c', 'e', 's', 's', 'f', 'u', 'l', 'l', 'y', ' ', 'i', 'm', 'p', 'l', 'e', 'm', 'e', 'n', 't', 'e', 'd', '.', ' ', 'F', 'o', 'r', 'm', 'e', 'd', ' ', 'a', ' ', 't', 'e', 'a', 'm', ' ', 'o', 'f', ' ', 's', 'o', 'u', 'n', 'd', ' ', 'a', 'n', 'd', ' ', 'e', 'l', 'i', 'g', 'i', 'b', 'l', 'e', ' ', 'c', 'a', 'n', 'd', 'i', 'd', 'a', 't', 'e', 's', ' ', 'a', 'n', 'd', ' ', 'w', 'a', 's', ' ', 'i', 'n', 'v', 'o', 'l', 'v', 'e', 'd', '\\n', 'i', 'n', ' ', 'b', 'r', 'a', 'i', 'n', 's', 't', 'o', 'r', 'm', 'i', 'n', 'g', ' ', 's', 'e', 's', 's', 'i', 'o', 'n', 's', ' ', 'f', 'o', 'r', ' ', 't', 'h', 'e', ' ', 'f', 'e', 'a', 't', 'u', 'r', 'e', 's', ' ', 'o', 'f', ' ', 't', 'h', 'e', ' ', 'a', 'p', 'p', ' ', 't', 'o', ' ', 'w', 'e', 'e', 'k', 'l', 'y', ' ', 'r', 'e', 'v', 'i', 'e', 'w', 's', ' ', 'a', 'n', 'd', ' ', 'p', 'r', 'o', 'g', 'r', 'e', 's', 's', '\\n', 'a', 'n', 'a', 'l', 'y', 's', 'i', 's', '.', '\\n', '•', ' ', 'C', 'a', 'm', 'e', ' ', 'u', 'p', ' ', 'w', 'i', 't', 'h', ' ', 't', 'h', 'e', ' ', 'n', 'o', 't', 'i', 'o', 'n', ' ', 'o', 'f', ' ', 'l', 'a', 'u', 'n', 'c', 'h', 'i', 'n', 'g', ' ', 'a', ' ', 't', 'i', 'c', '-', 't', 'a', 'c', '-', 't', 'o', 'e', ' ', 'g', 'a', 'm', 'e', ' ', 'o', 'n', ' ', 'I', 'n', 's', 't', 'a', 'g', 'r', 'a', 'm', ' ', 'a', 's', ' ', 'a', ' ', 's', 'h', 'o', 'u', 't', '-', 'o', 'u', 't', ' ', 't', 'o', '\\n', 't', 'h', 'e', ' ', 'c', 'o', 'm', 'p', 'a', 'n', 'y', '.', '\\n', 'P', 'R', 'O', 'J', 'E', 'C', 'T', 'S', '\\n', 'Y', 'E', 'L', 'P', 'C', 'A', 'M', 'P', ' ', '|', ' ', 'N', 'o', 'd', 'e', '.', 'j', 's', ',', ' ', 'M', 'o', 'n', 'g', 'o', 'D', 'B', ',', ' ', 'E', 'x', 'p', 'r', 'e', 's', 's', '.', 'j', 's', ',', ' ', 'H', 'T', 'M', 'L', ',', ' ', 'C', 'S', 'S', ',', ' ', 'B', 'o', 'o', 't', 's', 't', 'r', 'a', 'p', ',', ' ', 'J', 'a', 'v', 'a', 'S', 'c', 'r', 'i', 'p', 't', '\\n', 'A', ' ', 'd', 'y', 'n', 'a', 'm', 'i', 'c', ' ', 'a', 'p', 'p', 'l', 'i', 'c', 'a', 't', 'i', 'o', 'n', ' ', 'f', 'o', 'r', ' ', 'c', 'a', 'm', 'p', 'g', 'r', 'o', 'u', 'n', 'd', 's', ' ', 'a', 'n', 'd', ' ', 'f', 'e', 'a', 't', 'u', 'r', 'e', 's', ' ', 'w', 'h', 'i', 'c', 'h', ' ', 'a', 'l', 'l', 'o', 'w', 's', ' ', 'u', 's', 'e', 'r', 's', ' ', 't', 'o', ' ', 'c', 'r', 'e', 'a', 't', 'e', ' ', 't', 'h', 'e', 'i', 'r', ' ', 'o', 'w', 'n', '\\n', 'c', 'a', 'm', 'p', 'g', 'r', 'o', 'u', 'n', 'd', 's', ',', ' ', 'v', 'i', 'e', 'w', ' ', 'a', 'n', 'd', ' ', 'c', 'o', 'm', 'm', 'e', 'n', 't', ' ', 'o', 'n', ' ', 'o', 't', 'h', 'e', 'r', 's', ' ', 'c', 'a', 'm', 'p', 'g', 'r', 'o', 'u', 'n', 'd', ' ', 'e', 't', 'c', '.', '\\n', '\\n', 'S', 'M', 'A', 'R', 'T', ' ', 'L', 'I', 'B', 'R', 'A', 'R', 'Y', ' ', 'A', 'P', 'P', 'L', 'I', 'C', 'A', 'T', 'I', 'O', 'N', ' ', '|', ' ', 'H', 'T', 'M', 'L', ',', 'C', 'S', 'S', ',', 'J', 'a', 'v', 'a', 'S', 'c', 'r', 'i', 'p', 't', ',', 'B', 'o', 'o', 't', 's', 't', 'r', 'a', 'p', ',', ' ', 'M', 'y', 'S', 'Q', 'L', '\\n', 'S', 'm', 'a', 'r', 't', ' ', 'L', 'i', 'b', 'r', 'a', 'r', 'y', ' ', 'A', 'p', 'p', 'l', 'i', 'c', 'a', 't', 'i', 'o', 'n', ' ', 'h', 'a', 's', ' ', 't', 'w', 'o', ' ', 'm', 'o', 'd', 'u', 'l', 'e', 's', ',', ' ', 'o', 'n', 'e', ' ', 'e', 'a', 'c', 'h', ' ', 'f', 'o', 'r', ' ', 't', 'h', 'e', ' ', 'u', 's', 'e', 'r', ' ', 'a', 'n', 'd', ' ', 't', 'h', 'e', ' ', 'a', 'd', 'm', 'i', 'n', '.', ' ', 'A', 'd', 'm', 'i', 'n', ' ', 'c', 'a', 'n', '\\n', 'a', 'd', 'd', ',', ' ', 'd', 'e', 'l', 'e', 't', 'e', ' ', 'a', 'n', 'd', ' ', 'u', 'p', 'd', 'a', 't', 'e', ' ', 't', 'h', 'e', ' ', 'i', 'n', 'f', 'o', 'r', 'm', 'a', 't', 'i', 'o', 'n', ' ', 'o', 'f', ' ', 't', 'h', 'e', ' ', 'b', 'o', 'o', 'k', 's', '.', ' ', 'U', 's', 'e', 'r', 's', ' ', 'c', 'a', 'n', ' ', 'p', 'l', 'a', 'c', 'e', ' ', 'a', 'n', ' ', 'o', 'r', 'd', 'e', 'r', ' ', 't', 'o', ' ', 'b', 'o', 'r', 'r', 'o', 'w', ' ', 't', 'h', 'e', '\\n', 'b', 'o', 'o', 'k', 's', ' ', 'b', 'a', 's', 'e', 'd', ' ', 'o', 'n', ' ', 'i', 't', 's', ' ', 'a', 'v', 'a', 'i', 'l', 'a', 'b', 'i', 'l', 'i', 't', 'y', '.', '\\n', '\\n', 'M', 'Y', ' ', 'R', 'E', 'S', 'T', 'F', 'U', 'L', ' ', 'B', 'L', 'O', 'G', ' ', 'A', 'P', 'P', ' ', '|', ' ', 'S', 'e', 'm', 'a', 'n', 't', 'i', 'c', ' ', 'U', 'I', '\\n', 'A', ' ', 's', 'i', 'm', 'p', 'l', 'e', ' ', 'B', 'l', 'o', 'g', ' ', 'A', 'p', 'p', ' ', 'd', 'e', 's', 'i', 'g', 'n', 'e', 'd', ' ', 'b', 'y', ' ', 'f', 'o', 'l', 'l', 'o', 'w', 'i', 'n', 'g', ' ', 't', 'h', 'e', ' ', 'c', 'o', 'n', 'v', 'e', 'n', 't', 'i', 'o', 'n', 's', ' ', 'o', 'f', ' ', 'R', 'E', 'S', 'T', 'f', 'u', 'l', ' ', 'r', 'o', 'u', 't', 'i', 'n', 'g', ' ', 't', 'h', 'a', 't', ' ', 'c', 'o', 'n', 's', 'i', 's', 't', 's', ' ', 'o', 'f', '\\n', 'a', 'l', 'l', ' ', 't', 'h', 'e', ' ', '7', ' ', 'r', 'o', 'u', 't', 'e', 's', '.', '\\n', '\\n', 'A', 'L', 'G', 'O', 'R', 'I', 'T', 'H', 'M', 'I', 'C', ' ', 'I', 'M', 'P', 'L', 'E', 'M', 'E', 'N', 'T', 'A', 'T', 'I', 'O', 'N', ' ', 'O', 'F', ' ', 'P', 'D', 'A', ' ', '|', ' ', 'C', '+', '+', ',', ' ', 'P', 'D', 'A', '\\n', 'D', 'e', 's', 'i', 'g', 'n', 'e', 'd', ' ', 'a', ' ', 'm', 'e', 'n', 'u', ' ', 'd', 'r', 'i', 'v', 'e', 'n', ' ', 'P', 'u', 's', 'h', ' ', 'D', 'o', 'w', 'n', ' ', 'A', 'u', 't', 'o', 'm', 'a', 't', 'a', ' ', 't', 'o', ' ', 'a', 'c', 'c', 'e', 'p', 't', ' ', 'v', 'a', 'r', 'i', 'o', 'u', 's', ' ', 't', 'y', 'p', 'e', 's', ' ', 'o', 'f', ' ', 'S', 't', 'r', 'i', 'n', 'g', 's', ' ', 'i', 'n', ' ', 'C', '+', '+', '\\n', 'C', 'E', 'R', 'T', 'I', 'F', 'I', 'C', 'A', 'T', 'I', 'O', 'N', 'S', '\\n', 'T', 'H', 'E', ' ', 'W', 'E', 'B', ' ', 'D', 'E', 'V', 'E', 'L', 'O', 'P', 'E', 'R', ' ', 'B', 'O', 'O', 'T', 'C', 'A', 'M', 'P', '\\n', '•', ' ', 'U', 'd', 'e', 'm', 'y', ' ', '|', ' ', 'A', 'p', 'r', 'i', 'l', ' ', '2', '0', '2', '0', ' ', '|', ' ', '[', ' ', 'C', 'e', 'r', 't', 'i', 'f', 'i', 'c', 'a', 't', 'e', ']', '\\n', '\\n', 'P', 'Y', 'T', 'H', 'O', 'N', ' ', 'D', 'A', 'T', 'A', ' ', 'S', 'T', 'R', 'U', 'C', 'T', 'U', 'R', 'E', 'S', '\\n', '•', ' ', 'C', 'o', 'u', 'r', 's', 'e', 'r', 'a', ' ', '|', ' ', 'S', 'e', 'p', 't', 'e', 'm', 'b', 'e', 'r', ' ', '2', '0', '2', '0', ' ', '|', ' ', '[', ' ', 'C', 'e', 'r', 't', 'i', 'f', 'i', 'c', 'a', 't', 'e', ']', '\\n', '\\n', 'P', 'Y', 'T', 'H', 'O', 'N', ' ', 'F', 'O', 'R', ' ', 'E', 'V', 'E', 'R', 'Y', 'B', 'O', 'D', 'Y', '\\n', '•', ' ', 'C', 'o', 'u', 'r', 's', 'e', 'r', 'a', ' ', '|', ' ', 'S', 'e', 'p', 't', 'e', 'm', 'b', 'e', 'r', ' ', '2', '0', '2', '0', ' ', '|', ' ', '[', ' ', 'C', 'e', 'r', 't', 'i', 'f', 'i', 'c', 'a', 't', 'e', ']', '\\n', 'A', 'C', 'H', 'I', 'E', 'V', 'E', 'M', 'E', 'N', 'T', 'S', '\\n', 'D', 'S', 'C', ' ', 'W', 'E', 'B', 'H', 'O', 'O', 'K', 'S', ' ', '|', ' ', '(', '2', '0', '1', '9', ' ', '-', ' ', '2', '0', '2', '0', ')', '\\n', '•', ' ', 'O', 'n', 'e', ' ', 'o', 'f', ' ', 't', 'h', 'e', ' ', 'w', 'i', 'n', 'n', 'e', 'r', 's', ' ', 'o', 'f', ' ', 't', 'h', 'e', ' ', 'f', 'r', 'o', 'n', 't', ' ', 'e', 'n', 'd', ' ', 'w', 'e', 'b', ' ', 'd', 'e', 'v', 'e', 'l', 'o', 'p', 'm', 'e', 'n', 't', ' ', 'c', 'o', 'm', 'p', 'e', 't', 'i', 't', 'i', 'o', 'n', '.', '\\n', '\\n', 'I', 'N', 'S', 'I', 'D', 'E', 'S', 'H', 'E', 'R', 'P', 'A', ' ', '|', ' ', 'J', 'P', 'M', 'O', 'R', 'G', 'A', 'N', ' ', 'C', 'H', 'A', 'S', 'E', ' ', 'C', 'O', '.', ' ', 'S', 'O', 'F', 'T', 'W', 'A', 'R', 'E', ' ', 'E', 'N', 'G', 'I', 'N', 'E', 'E', 'R', 'I', 'N', 'G', '\\n', 'V', 'I', 'R', 'T', 'U', 'A', 'L', ' ', 'E', 'X', 'P', 'E', 'R', 'I', 'E', 'N', 'C', 'E', ' ', '|', ' ', '(', 'M', 'a', 'y', ' ', '2', '0', '2', '0', ' ', '-', ' ', 'J', 'u', 'l', 'y', ' ', '2', '0', '2', '0', ')', '\\n', '•', ' ', 'T', 'o', 'o', 'k', ' ', 'p', 'a', 'r', 't', ' ', 'i', 'n', ' ', 'a', ' ', 'r', 'e', 'm', 'o', 't', 'e', ' ', 'i', 'n', 't', 'e', 'r', 'n', 's', 'h', 'i', 'p', ',', ' ', 'c', 'o', 'm', 'p', 'l', 'e', 't', 'e', 'd', ' ', 't', 'h', 'e', ' ', 'a', 's', 's', 'i', 'g', 'n', 'e', 'd', ' ', 'm', 'o', 'd', 'u', 'l', 'e', 's', ' ', 'a', 'n', 'd', ' ', 'r', 'e', 'c', 'e', 'i', 'v', 'e', 'd', ' ', 'a', '\\n', 'c', 'e', 'r', 't', 'i', 'ﬁ', 'c', 'a', 't', 'e', '.', '\\n', '\\n', '1', '\\n', '\\n', '\\x0c']\n"
     ]
    },
    {
     "data": {
      "text/plain": [
       "str"
      ]
     },
     "execution_count": 35,
     "metadata": {},
     "output_type": "execute_result"
    }
   ],
   "source": [
    "# EXTRACT TEXT\n",
    "\n",
    "resource_manager = PDFResourceManager()\n",
    "fake_file_handle = io.StringIO()\n",
    "converter = TextConverter(resource_manager, fake_file_handle, laparams=LAParams())\n",
    "page_interpreter = PDFPageInterpreter(resource_manager, converter)\n",
    "\n",
    "with open(\"Samanvitha_S.pdf\", 'rb') as fh:\n",
    "\n",
    "    for page in PDFPage.get_pages(fh,\n",
    "                                  caching=True,\n",
    "                                  check_extractable=True):\n",
    "        page_interpreter.process_page(page)\n",
    "\n",
    "    text = fake_file_handle.getvalue()\n",
    "\n",
    "# close open handles\n",
    "converter.close()\n",
    "fake_file_handle.close()"
   ]
  },
  {
   "cell_type": "code",
   "execution_count": 7,
   "metadata": {},
   "outputs": [],
   "source": [
    "#Converting pdf to string\n",
    "#resume_string = convert(\"/home/shreya/Big Data Project/Samanvitha_S.pdf\")\n",
    "#resume_string1 = resume_string\n",
    "resume_string = text\n",
    "resume_string1 = resume_string\n",
    "#Removing commas in the resume for an effecient check\n",
    "resume_string = resume_string.replace(',',' ')\n",
    "#Converting all the charachters in lower case\n",
    "resume_string = resume_string.lower()"
   ]
  },
  {
   "cell_type": "code",
   "execution_count": 8,
   "metadata": {},
   "outputs": [],
   "source": [
    "#Information Extraction Function\n",
    "def extract_information(string):\n",
    "    string.replace (\" \", \"+\")\n",
    "    query = string\n",
    "    soup = BeautifulSoup(urllib.request.urlopen(\"https://en.wikipedia.org/wiki/\" + query), \"html.parser\")\n",
    "    #creates soup and opens URL for Google. Begins search with site:wikipedia.com so only wikipedia\n",
    "    #links show up. Uses html parser.\n",
    "    for item in soup.find_all('div', attrs={'id' : \"mw-content-text\"}):\n",
    "        print(item.find('p').get_text())\n",
    "        print('\\n')\n",
    "with open('techatt.csv', 'r') as f:\n",
    "    reader = csv.reader(f)\n",
    "    your_listatt = list(reader)\n",
    "with open('techskill.csv', 'r') as f:\n",
    "    reader = csv.reader(f)\n",
    "    your_list = list(reader)\n",
    "with open('nontechnicalskills.csv', 'r') as f:\n",
    "    reader = csv.reader(f)\n",
    "    your_list1 = list(reader)"
   ]
  },
  {
   "cell_type": "code",
   "execution_count": null,
   "metadata": {},
   "outputs": [],
   "source": [
    "#import en_core_web_sm\n",
    "#nlp = spacy.load('en_core_web_sm')\n",
    "#nlp = en_core_web_sm.load()"
   ]
  },
  {
   "cell_type": "code",
   "execution_count": null,
   "metadata": {},
   "outputs": [],
   "source": [
    "#nlp = spacy.load('en_core_web_sm')"
   ]
  },
  {
   "cell_type": "code",
   "execution_count": 30,
   "metadata": {},
   "outputs": [
    {
     "name": "stdout",
     "output_type": "stream",
     "text": [
      "\n",
      "\n",
      "2018 - 2022\n",
      "Karnataka\n",
      "Cum\n",
      "GPA\n",
      "2016 - 2018\n",
      "Karnataka\n",
      "Percentage\n",
      "96%\n",
      "2009 - 2016\n",
      "Karnataka\n",
      "Cum\n",
      "GPA\n",
      "10.0/10.0\n",
      "June 2020 - November 2020\n",
      "two\n",
      "weekly\n",
      "Instagram\n",
      "Node.js\n",
      "Bootstrap\n",
      "JavaScript\n",
      "Bootstrap\n",
      "two modules\n",
      "Blog App\n",
      "7\n",
      "C++\n",
      "Push Down Automata\n",
      "Strings\n",
      "C++\n",
      "April 2020\n",
      "September 2020\n",
      "September 2020\n",
      "WEBHOOKS\n",
      "2019 - 2020\n",
      "INSIDESHERPA\n",
      "JPMORGAN CHASE CO.\n",
      "May 2020 - July 2020\n",
      "1\n",
      "None\n",
      "\n",
      "\n",
      "Phone Number is\n",
      "['8904868690']\n",
      "\n",
      "\n",
      "Email id is\n",
      "['samanvitha.sateesha@gmail.com']\n",
      "\n",
      "\n",
      "Following are his/her Technical Skills\n",
      "\n",
      "\n",
      "c++\n",
      "Programming Language\n",
      "\n",
      "\n",
      "c\n",
      "Programming Language\n",
      "\n",
      "\n",
      "css\n",
      "Programming Language\n",
      "\n",
      "\n",
      "javascript\n",
      "Programming Language\n",
      "\n",
      "\n",
      "\n",
      "\n",
      "Following are his/her Non Technical Skills\n",
      "\n",
      "\n",
      "\n",
      " \n",
      "\n"
     ]
    }
   ],
   "source": [
    "#Sets are used as it has a a constant time for lookup hence the overall the time for the total code will not exceed O(n)\n",
    "s = set(your_list[0])\n",
    "s1 = your_list\n",
    "s2 = your_listatt\n",
    "skillindex = []\n",
    "skills = []\n",
    "skillsatt = []\n",
    "print('\\n')\n",
    "print(extract_name(resume_string1))\n",
    "\n",
    "print('\\n')\n",
    "print('Phone Number is')\n",
    "y = extract_phone_numbers(resume_string)\n",
    "y1 = []\n",
    "for i in range(len(y)):\n",
    "    if(len(y[i])>9):\n",
    "        y1.append(y[i])\n",
    "print(y1)\n",
    "print('\\n')\n",
    "print('Email id is')\n",
    "print(extract_email_addresses(resume_string))\n",
    "for word in resume_string.split(\" \"):\n",
    "    if word in s:\n",
    "        skills.append(word)\n",
    "skills1 = list(set(skills))\n",
    "print('\\n')\n",
    "print(\"Following are his/her Technical Skills\")\n",
    "print('\\n')\n",
    "np_a1 = np.array(your_list)\n",
    "for i in range(len(skills1)):\n",
    "    item_index = np.where(np_a1==skills1[i])\n",
    "    skillindex.append(item_index[1][0])\n",
    "\n",
    "nlen = len(skillindex)\n",
    "for i in range(nlen):\n",
    "    print(skills1[i])\n",
    "    print(s2[0][skillindex[i]])\n",
    "    print('\\n')\n",
    "\n",
    "#Sets are used as it has a a constant time for lookup hence the overall the time for the total code will not exceed O(n)\n",
    "s1 = set(your_list1[0])\n",
    "nontechskills = []\n",
    "for word in resume_string.split(\" \"):\n",
    "    if word in s1:\n",
    "        nontechskills.append(word)\n",
    "nontechskills = set(nontechskills)\n",
    "print('\\n')\n",
    "\n",
    "print(\"Following are his/her Non Technical Skills\")\n",
    "list5 = list(nontechskills)\n",
    "print('\\n')\n",
    "for i in range(len(list5)):\n",
    "    print(list5[i])\n",
    "print('\\n \\n')"
   ]
  },
  {
   "cell_type": "code",
   "execution_count": null,
   "metadata": {},
   "outputs": [],
   "source": []
  }
 ],
 "metadata": {
  "kernelspec": {
   "display_name": "Python 3",
   "language": "python",
   "name": "python3"
  },
  "language_info": {
   "codemirror_mode": {
    "name": "ipython",
    "version": 3
   },
   "file_extension": ".py",
   "mimetype": "text/x-python",
   "name": "python",
   "nbconvert_exporter": "python",
   "pygments_lexer": "ipython3",
   "version": "3.6.9"
  }
 },
 "nbformat": 4,
 "nbformat_minor": 2
}
